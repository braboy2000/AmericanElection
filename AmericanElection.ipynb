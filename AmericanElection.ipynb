{
 "cells": [
  {
   "cell_type": "markdown",
   "metadata": {
    "id": "Q_rqa1jwKd5v"
   },
   "source": [
    "# Python pandas Practice Problems\n",
    "\n",
    "Welcome to datascience@berkeley's collection of Python pandas practice problems.\n",
    "\n",
    "To use this notebook, go to `File` --> `Save a copy in Drive` in the menu bar above to create a copy of this notebook on your computer. A new tab will open with the copy and you will be the owner. Your version will not be visible to anyone else.\n",
    "\n",
    "A few notes to get you started:\n",
    "\n",
    "* The space provided for code is not a line limit or hint. Add and use as many lines of code or additional cells as necessary.\n",
    "* Lines preceded with '#' are comments and provide additional explanation but will not affect written code or execution.\n",
    "* Solutions can be found in the complementary [Python pandas Practice Problems for Beginners - Solutions notebook](https://colab.research.google.com/drive/1f8PTrhgJR093fBth5Ka23KCWTIGbgPds?usp=sharing).\n",
    "* Additional resources for the concepts used in each problem can be found at [the blog post here](https://ischoolonline.berkeley.edu/blog/python-pandas-practice-problems/).\n",
    "\n",
    "\\"
   ]
  },
  {
   "cell_type": "code",
   "execution_count": 3,
   "metadata": {},
   "outputs": [
    {
     "name": "stdout",
     "output_type": "stream",
     "text": [
      "Requirement already satisfied: statsmodels in /Library/Frameworks/Python.framework/Versions/3.11/lib/python3.11/site-packages (0.14.0)\n",
      "Requirement already satisfied: numpy>=1.18 in /Library/Frameworks/Python.framework/Versions/3.11/lib/python3.11/site-packages (from statsmodels) (1.25.1)\n",
      "Requirement already satisfied: scipy!=1.9.2,>=1.4 in /Library/Frameworks/Python.framework/Versions/3.11/lib/python3.11/site-packages (from statsmodels) (1.11.2)\n",
      "Requirement already satisfied: pandas>=1.0 in /Library/Frameworks/Python.framework/Versions/3.11/lib/python3.11/site-packages (from statsmodels) (2.0.3)\n",
      "Requirement already satisfied: patsy>=0.5.2 in /Library/Frameworks/Python.framework/Versions/3.11/lib/python3.11/site-packages (from statsmodels) (0.5.3)\n",
      "Requirement already satisfied: packaging>=21.3 in /Library/Frameworks/Python.framework/Versions/3.11/lib/python3.11/site-packages (from statsmodels) (23.1)\n",
      "Requirement already satisfied: python-dateutil>=2.8.2 in /Library/Frameworks/Python.framework/Versions/3.11/lib/python3.11/site-packages (from pandas>=1.0->statsmodels) (2.8.2)\n",
      "Requirement already satisfied: pytz>=2020.1 in /Library/Frameworks/Python.framework/Versions/3.11/lib/python3.11/site-packages (from pandas>=1.0->statsmodels) (2023.3)\n",
      "Requirement already satisfied: tzdata>=2022.1 in /Library/Frameworks/Python.framework/Versions/3.11/lib/python3.11/site-packages (from pandas>=1.0->statsmodels) (2023.3)\n",
      "Requirement already satisfied: six in /Library/Frameworks/Python.framework/Versions/3.11/lib/python3.11/site-packages (from patsy>=0.5.2->statsmodels) (1.16.0)\n",
      "\n",
      "\u001b[1m[\u001b[0m\u001b[34;49mnotice\u001b[0m\u001b[1;39;49m]\u001b[0m\u001b[39;49m A new release of pip is available: \u001b[0m\u001b[31;49m23.2\u001b[0m\u001b[39;49m -> \u001b[0m\u001b[32;49m23.2.1\u001b[0m\n",
      "\u001b[1m[\u001b[0m\u001b[34;49mnotice\u001b[0m\u001b[1;39;49m]\u001b[0m\u001b[39;49m To update, run: \u001b[0m\u001b[32;49mpip install --upgrade pip\u001b[0m\n",
      "Note: you may need to restart the kernel to use updated packages.\n"
     ]
    }
   ],
   "source": [
    "pip install statsmodels "
   ]
  },
  {
   "cell_type": "code",
   "execution_count": 4,
   "metadata": {
    "id": "_DgRNdroKTwF"
   },
   "outputs": [],
   "source": [
    "# Import statements go here\n",
    "\n",
    "\n",
    "import pandas as pd\n",
    "import statsmodels.api as sm\n",
    "import numpy as np"
   ]
  },
  {
   "cell_type": "markdown",
   "metadata": {
    "id": "525Moc9hEfFr"
   },
   "source": [
    "## Importing Data and Making a DataFrame\n",
    "The statsmodels package (installed in the code cell above) includes built-in datasets. Execute the code below to download data from the [American National Election Studies of 1996](https://www.statsmodels.org/dev/datasets/generated/anes96.html) and print a detailed description of the schema.\n",
    "\n",
    "The next cell extracts the `Dataset` object from the submodule and saves the `DataFrame` to the variable `df`. In the questions that follow, use `df` when referencing the dataset."
   ]
  },
  {
   "cell_type": "code",
   "execution_count": 5,
   "metadata": {
    "colab": {
     "base_uri": "https://localhost:8080/"
    },
    "id": "d-bGIc2VNqvW",
    "outputId": "7556bb38-6aa2-4a46-c2e8-d261952631fe"
   },
   "outputs": [
    {
     "name": "stdout",
     "output_type": "stream",
     "text": [
      "::\n",
      "\n",
      "    Number of observations - 944\n",
      "    Number of variables - 10\n",
      "\n",
      "    Variables name definitions::\n",
      "\n",
      "            popul - Census place population in 1000s\n",
      "            TVnews - Number of times per week that respondent watches TV news.\n",
      "            PID - Party identification of respondent.\n",
      "                0 - Strong Democrat\n",
      "                1 - Weak Democrat\n",
      "                2 - Independent-Democrat\n",
      "                3 - Independent-Indpendent\n",
      "                4 - Independent-Republican\n",
      "                5 - Weak Republican\n",
      "                6 - Strong Republican\n",
      "            age : Age of respondent.\n",
      "            educ - Education level of respondent\n",
      "                1 - 1-8 grades\n",
      "                2 - Some high school\n",
      "                3 - High school graduate\n",
      "                4 - Some college\n",
      "                5 - College degree\n",
      "                6 - Master's degree\n",
      "                7 - PhD\n",
      "            income - Income of household\n",
      "                1  - None or less than $2,999\n",
      "                2  - $3,000-$4,999\n",
      "                3  - $5,000-$6,999\n",
      "                4  - $7,000-$8,999\n",
      "                5  - $9,000-$9,999\n",
      "                6  - $10,000-$10,999\n",
      "                7  - $11,000-$11,999\n",
      "                8  - $12,000-$12,999\n",
      "                9  - $13,000-$13,999\n",
      "                10 - $14,000-$14.999\n",
      "                11 - $15,000-$16,999\n",
      "                12 - $17,000-$19,999\n",
      "                13 - $20,000-$21,999\n",
      "                14 - $22,000-$24,999\n",
      "                15 - $25,000-$29,999\n",
      "                16 - $30,000-$34,999\n",
      "                17 - $35,000-$39,999\n",
      "                18 - $40,000-$44,999\n",
      "                19 - $45,000-$49,999\n",
      "                20 - $50,000-$59,999\n",
      "                21 - $60,000-$74,999\n",
      "                22 - $75,000-89,999\n",
      "                23 - $90,000-$104,999\n",
      "                24 - $105,000 and over\n",
      "            vote - Expected vote\n",
      "                0 - Clinton\n",
      "                1 - Dole\n",
      "            The following 3 variables all take the values:\n",
      "                1 - Extremely liberal\n",
      "                2 - Liberal\n",
      "                3 - Slightly liberal\n",
      "                4 - Moderate\n",
      "                5 - Slightly conservative\n",
      "                6 - Conservative\n",
      "                7 - Extremely Conservative\n",
      "            selfLR - Respondent's self-reported political leanings from \"Left\"\n",
      "                to \"Right\".\n",
      "            ClinLR - Respondents impression of Bill Clinton's political\n",
      "                leanings from \"Left\" to \"Right\".\n",
      "            DoleLR  - Respondents impression of Bob Dole's political leanings\n",
      "                from \"Left\" to \"Right\".\n",
      "            logpopul - log(popul + .1)\n",
      "\n"
     ]
    }
   ],
   "source": [
    "anes96 = sm.datasets.anes96\n",
    "print(anes96.NOTE)"
   ]
  },
  {
   "cell_type": "code",
   "execution_count": 6,
   "metadata": {
    "id": "0aVym7SVK-IU"
   },
   "outputs": [],
   "source": [
    "dataset_anes96 = anes96.load_pandas()\n",
    "df = dataset_anes96.data"
   ]
  },
  {
   "cell_type": "markdown",
   "metadata": {
    "id": "kBHruDwCK1mH"
   },
   "source": [
    "## 1. DataFrame Basic Properties Exercise\n",
    "\n",
    "Our DataFrame (`df`) contains data on registered voters in the United States, including demographic information and political preference. Using `pandas`, print the first 5 rows of the DataFrame to get a sense of what the data looks like. Next, answer the following questions:\n",
    "\n",
    "\n",
    "*   How many observations are in the DataFrame?\n",
    "*   How many variables are measured (how many columns)?\n",
    "*   What is the age of the youngest person in the data? The oldest?\n",
    "*   How many days a week does the average respondent watch TV news (round to the nearest tenth)?\n",
    "*   Check for missing values. Are there any?\n",
    "\n",
    "\n",
    "\n",
    "\n"
   ]
  },
  {
   "cell_type": "code",
   "execution_count": 7,
   "metadata": {},
   "outputs": [
    {
     "name": "stdout",
     "output_type": "stream",
     "text": [
      "   popul  TVnews  selfLR  ClinLR  DoleLR  PID   age  educ  income  vote  \\\n",
      "0    0.0     7.0     7.0     1.0     6.0  6.0  36.0   3.0     1.0   1.0   \n",
      "1  190.0     1.0     3.0     3.0     5.0  1.0  20.0   4.0     1.0   0.0   \n",
      "2   31.0     7.0     2.0     2.0     6.0  1.0  24.0   6.0     1.0   0.0   \n",
      "3   83.0     4.0     3.0     4.0     5.0  1.0  28.0   6.0     1.0   0.0   \n",
      "4  640.0     7.0     5.0     6.0     4.0  0.0  68.0   6.0     1.0   0.0   \n",
      "\n",
      "   logpopul  \n",
      "0 -2.302585  \n",
      "1  5.247550  \n",
      "2  3.437208  \n",
      "3  4.420045  \n",
      "4  6.461624  \n"
     ]
    }
   ],
   "source": [
    "print(df.head())"
   ]
  },
  {
   "cell_type": "code",
   "execution_count": 8,
   "metadata": {
    "id": "kh7hT9QyEsxl",
    "scrolled": true
   },
   "outputs": [
    {
     "name": "stdout",
     "output_type": "stream",
     "text": [
      "Number of observations: 944\n",
      "Variables: 11\n",
      "Youngest age: 19.0\n",
      "Oldest age: 91.0\n",
      "Average time a respondent watches TV news: 3.73\n",
      "Checking for missing values: False\n"
     ]
    }
   ],
   "source": [
    "\n",
    "#Number of observations\n",
    "print('Number of observations: '+str(len(df)))\n",
    "\n",
    "#Variables\n",
    "print('Variables: '+str(len(df.columns)))\n",
    "\n",
    "#Youngest person in data\n",
    "print('Youngest age: '+str(df['age'].min()))\n",
    "\n",
    "#Oldest person in data\n",
    "print('Oldest age: '+str(df['age'].max()))\n",
    "\n",
    "#Average time a respondent watches TV news\n",
    "\n",
    "print('Average time a respondent watches TV news: ' +str(round(df['TVnews'].mean(),2)))\n",
    "\n",
    "#Check for missing values\n",
    "missing_values = df.isna()\n",
    "any_missing = missing_values.any().any()\n",
    "\n",
    "print('Checking for missing values: '+str(any_missing))\n",
    "\n"
   ]
  },
  {
   "cell_type": "markdown",
   "metadata": {
    "id": "RMerTMKXLA9f"
   },
   "source": [
    "## 2. Data Processing Exercise\n",
    "\n",
    "We want to adjust the dataset for our use. Do the following:\n",
    "\n",
    "\n",
    "*   Rename the `educ` column `education`.\n",
    "*   Create a new column called `party` based on each respondent's answer to `PID`. `party` should equal `Democrat` if the respondent selected either Strong Democrat or Weak Democrat. `party` will equal `Republican` if the respondent selected Strong or Weak Republican for `PID` and `Independent` if they selected anything else.\n",
    "*   Create a new column called `age_group` that buckets respondents into the following categories based on their `age`: 18-24, 25-34, 35-44, 45-54, 55-64, and 65 and over.\n",
    "\n"
   ]
  },
  {
   "cell_type": "code",
   "execution_count": 9,
   "metadata": {
    "id": "QaxRXEVULDGn"
   },
   "outputs": [],
   "source": [
    "#Renaming 'educ' column to 'education'\n",
    "df.rename(columns={'educ':'education'}, inplace=True)\n",
    "\n",
    "#Creating new column called 'party' where party='Democrat' if PID contains 'Democrat'\n",
    "\n",
    "def calculate_party(PID):\n",
    "    if PID==1 or PID==2:\n",
    "        return 'Democrat'\n",
    "    if PID==5 or PID==6:\n",
    "        return 'Republican'\n",
    "    else: \n",
    "        return 'Independent'\n",
    "\n",
    "df['party']=df['PID'].apply(calculate_party)\n",
    "\n",
    "#Creating new column called 'age_group' that sorts age into buckets\n",
    "\n",
    "def group_age(age):\n",
    "    if age>=18 and age <=24:\n",
    "        return '18-24'\n",
    "    if age>=25 and age<=34:\n",
    "        return '25-34'\n",
    "    if age>=35 and age<=44:\n",
    "        return '35-44'\n",
    "    if age>=45 and age<=54:\n",
    "        return '45-54'\n",
    "    if age>=55 and age<=64:\n",
    "        return '55-64'\n",
    "    else:\n",
    "        return '65 and over'\n",
    "\n",
    "\n",
    "df['age_group']=df['age'].apply(group_age)\n",
    "\n",
    "\n",
    "    \n",
    "\n",
    "\n",
    "\n",
    "\n",
    "\n",
    "\n",
    "\n"
   ]
  },
  {
   "cell_type": "markdown",
   "metadata": {
    "id": "FaisnScALWND"
   },
   "source": [
    "## 3. Filtering Data Exercise\n",
    "\n",
    "Use the filtering method to find all the respondents who have the impression that Bill Clinton is moderate or conservative (`ClinLR` equals 4 or higher). How many respondents are in this subset?\n",
    "\n",
    "Among these respondents, how many have a household income less than $50,000 and attended at least some college?"
   ]
  },
  {
   "cell_type": "code",
   "execution_count": 10,
   "metadata": {
    "id": "eX5t91r1BJ3k"
   },
   "outputs": [
    {
     "name": "stdout",
     "output_type": "stream",
     "text": [
      "Number of Bill Clinton moderate or conservative impressions: 282\n",
      "Number of respondents who have a household income of $50,000 and have attended some college: 120\n"
     ]
    }
   ],
   "source": [
    "#Finding all respondents who think Bill Clinton is moderate or conservative (ClinLR >=4)\n",
    "\n",
    "moderate_or_conservative=len(df[df['ClinLR']>=4])\n",
    "\n",
    "print('Number of Bill Clinton moderate or conservative impressions: '+ str(moderate_or_conservative))\n",
    "\n",
    "#Finding number of respondents who have a household income of less than $50,000 and attended some college\n",
    "\n",
    "\n",
    "print('Number of respondents who have a household income of $50,000 and have attended some college: '+ str(len(df[(df['income']<=19) & (df['education']==4)])))\n",
    "\n"
   ]
  },
  {
   "cell_type": "markdown",
   "metadata": {
    "id": "g5GzVjqdLe82"
   },
   "source": [
    "## 4. Calculating From Data Exercise\n",
    "\n",
    "For each of the below match-ups, choose the group that is more likely to vote for Bill Clinton. You can calculate this using the percentage of each group that intends to vote for Clinton (`vote`). Which match-up was the closest? Which had the biggest difference?\n",
    "\n",
    "Another way to think about this: Given that a respondent is a Democrat, there is a ____ percent chance they will vote for Clinton. How does this value change if the respondent is a Republican?\n",
    "\n",
    "*   Democrats or Republicans\n",
    "*   People younger than 44 or People 44 and older\n",
    "*   People who watch TV news at least 6 days a week or People who watch TV news less than 3 days a week\n",
    "*   People who live somewhere with a population greater than the average respondent or People who live in a place with a population equal to or less than the average respondent\n"
   ]
  },
  {
   "cell_type": "code",
   "execution_count": 11,
   "metadata": {
    "id": "68hj5Vs6Lhz5"
   },
   "outputs": [
    {
     "name": "stdout",
     "output_type": "stream",
     "text": [
      "Percent chance that a Democrat votes for Bill Clinton: 28.6%\n",
      "Percent chance that a Democrat votes for Bill Clinton: 3.6%\n",
      "Percent chance that someone younger than 44 votes for Bill Clinton: 22.88%\n",
      "Percent chance that someone 44 or older votes for Bill Clinton: 35.49%\n",
      "Percent chance that someone watching the news for at least 6 times a week votes for Bill Clinton: 19.6%\n",
      "Percent chance that someone watching the news for at less than 3 times a week votes for Bill Clinton: 21.93%\n",
      "Percent chance that people who live somewhere with a population greater than the average respondent vote for Bill Clinton: 10.81%\n",
      "Percent chance that people who live somewhere with a population equal to or less than the average respondent vote for Bill Clinton: 47.56%\n"
     ]
    }
   ],
   "source": [
    "\n",
    "\n",
    "democrat_for_clinton=df[(df['party']=='Democrat') & (df['vote']==0)]\n",
    "\n",
    "democrat_percentage=(len(democrat_for_clinton) / len(df['party'] == 'Democrat')) * 100\n",
    "\n",
    "#Chance that a Democrat votes for Bill Clinton\n",
    "\n",
    "print('Percent chance that a Democrat votes for Bill Clinton: '+str(round(democrat_percentage, 2))+'%')\n",
    "\n",
    "\n",
    "republican_for_clinton=df[(df['party']=='Republican') & (df['vote']==0)]\n",
    "\n",
    "republican_percentage=(len(republican_for_clinton)/len(df['party']=='Republican'))*100\n",
    "\n",
    "#Chance that a Republican votes for Bill Clinton\n",
    "\n",
    "print('Percent chance that a Democrat votes for Bill Clinton: '+str(round(republican_percentage, 2))+'%')\n",
    "\n",
    "#Chance that people younger than 44 vote for Bill Clinton\n",
    "\n",
    "younger_than_44=df[(df['age']<40)&(df['vote']==0)]\n",
    "\n",
    "younger_percentage=(len(younger_than_44)/len(df['age'] < 40)) * 100\n",
    "\n",
    "print('Percent chance that someone younger than 44 votes for Bill Clinton: '+str(round(younger_percentage, 2))+'%')\n",
    "\n",
    "\n",
    "fortyfour_or_older=df[(df['age']>=40)&(df['vote']==0)]\n",
    "\n",
    "older_percentage=(len(fortyfour_or_older)/len(df['age'] >= 40)) * 100\n",
    "\n",
    "print('Percent chance that someone 44 or older votes for Bill Clinton: '+str(round(older_percentage, 2))+'%')\n",
    "\n",
    "\n",
    "#Chance that someone who watch TV news at least 6 days a week votes for Bill Clinton\n",
    "\n",
    "avid_watchers=df[(df['TVnews']>=6) & (df['vote']==0)]\n",
    "\n",
    "avid_watcher_percentage=(len(avid_watchers)/len(df['TVnews'] >=6 )) * 100\n",
    "\n",
    "print('Percent chance that someone watching the news for at least 6 times a week votes for Bill Clinton: '+str(round(avid_watcher_percentage, 2))+'%')\n",
    "\n",
    "\n",
    "#Chance that people who watch TV news less than 3 days a week vote for Bill Clinton\n",
    "\n",
    "infrequent_watchers=df[(df['TVnews']<3) & (df['vote']==0)]\n",
    "\n",
    "infrequent_watcher_percentage=(len(infrequent_watchers)/len(df['TVnews'] < 3 )) * 100\n",
    "\n",
    "print('Percent chance that someone watching the news for at less than 3 times a week votes for Bill Clinton: '+str(round(infrequent_watcher_percentage, 2))+'%')\n",
    "\n",
    "\n",
    "#Chance that People who live somewhere with a population greater than the average respondent vote for Bill Clinton\n",
    "\n",
    "\n",
    "avg_respondent_pop=df['popul'].mean()\n",
    "\n",
    "people_with_higher_population=df[(df['popul']>avg_respondent_pop) & (df['vote']==0) ]\n",
    "\n",
    "high_pop_percentage=(len(people_with_higher_population)/len(df['popul'] > avg_respondent_pop )) * 100\n",
    "\n",
    "print('Percent chance that people who live somewhere with a population greater than the average respondent vote for Bill Clinton: '+str(round(high_pop_percentage, 2))+'%')\n",
    "\n",
    "\n",
    "#Chance that People who live in a place with a population equal to or less than the average respondent vote for Bill Clinton\n",
    "\n",
    "people_with_low_pop=df[(df['popul']<=avg_respondent_pop) & (df['vote']==0) ]\n",
    "\n",
    "low_pop_percentage=(len(people_with_low_pop)/len(df['popul'] <= avg_respondent_pop )) * 100\n",
    "\n",
    "print('Percent chance that people who live somewhere with a population equal to or less than the average respondent vote for Bill Clinton: '+str(round(low_pop_percentage, 2))+'%')\n",
    "\n",
    "\n",
    "\n",
    "\n",
    "\n",
    "\n"
   ]
  },
  {
   "cell_type": "markdown",
   "metadata": {
    "id": "Q68i6UUQLZrT"
   },
   "source": [
    "## 5. Grouping Data Exercise\n",
    "\n",
    "Use the `groupby()` method to bucket respondents by `age_group`. Which age group is the most conservative? Which watches TV news the least?\n",
    "\n",
    "Next, calculate 5 percentile groups based on income. Group the dataset by these percentiles. Which income bracket is the most liberal? Which is the most conservative? The oldest? Highest educated?"
   ]
  },
  {
   "cell_type": "code",
   "execution_count": 12,
   "metadata": {
    "id": "eNrBrx6-LcBn"
   },
   "outputs": [
    {
     "name": "stdout",
     "output_type": "stream",
     "text": [
      "Most conservative group: 55-64\n",
      "Age group that watches TV news the least: 18-24\n",
      "Most liberal income bracket: $0-$9,999\n",
      "Most conservative income bracket: $60,000 and over\n",
      "Oldest income bracket: $10,000-$14,999\n",
      "Highest education income bracket: $60,000 and over\n"
     ]
    }
   ],
   "source": [
    "#Most conservative age group\n",
    "\n",
    "group_ages=df.groupby('age_group')\n",
    "\n",
    "mean_self_LR= group_ages['selfLR'].mean()\n",
    "\n",
    "most_conservative = mean_self_LR.idxmax()\n",
    "\n",
    "print('Most conservative group: ' + str(most_conservative))\n",
    "\n",
    "\n",
    "#Infrequent TV watchers\n",
    "\n",
    "mean_TVnews=group_ages['TVnews'].mean()\n",
    "\n",
    "most_infrequent=mean_TVnews.idxmin()\n",
    "\n",
    "print('Age group that watches TV news the least: ' + str(most_infrequent))\n",
    "\n",
    "\n",
    "\n",
    "\n",
    "#Calculate percentiles\n",
    "\n",
    "def calculate_percentile(income):\n",
    "    if income>=1 and income<=5:\n",
    "        return '$0-$9,999'\n",
    "    if income>=6 and income<=10:\n",
    "        return '$10,000-$14,999'\n",
    "    if income>=11 and income<=15:\n",
    "        return '$15,000-$29,999'\n",
    "    if income>=16 and income<=20:\n",
    "        return '$30,000-$59,999'\n",
    "    else:\n",
    "        return '$60,000 and over'\n",
    "\n",
    "\n",
    "df['income_percentile']=df['income'].apply(calculate_percentile)\n",
    "\n",
    "#Calculating which income bracket is most liberal\n",
    "\n",
    "group_incomes=df.groupby('income_percentile')\n",
    "\n",
    "average_political_view=group_incomes['selfLR'].mean()\n",
    "\n",
    "most_liberal=average_political_view.idxmin()\n",
    "\n",
    "print('Most liberal income bracket: ' + str(most_liberal))\n",
    "\n",
    "\n",
    "#Calculating most conservative income bracket\n",
    "\n",
    "most_conservative=average_political_view.idxmax()\n",
    "\n",
    "print('Most conservative income bracket: '+ str(most_conservative))\n",
    "\n",
    "#print(anes96.NOTE)\n",
    "\n",
    "\n",
    "#Calculating income bracket with oldest people\n",
    "\n",
    "avg_age=group_incomes['age'].mean()\n",
    "\n",
    "oldest_income_bracket=avg_age.idxmax()\n",
    "\n",
    "print('Oldest income bracket: '+ str(oldest_income_bracket))\n",
    "\n",
    "\n",
    "#Calculating highest educated income bracket\n",
    "\n",
    "avg_education=group_incomes['education'].mean()\n",
    "\n",
    "highest_ed_income_bracket=avg_education.idxmax()\n",
    "\n",
    "print('Highest education income bracket: ' + str(highest_ed_income_bracket))\n",
    "\n",
    "\n",
    "\n",
    "\n",
    "\n",
    "\n",
    "\n",
    "\n"
   ]
  },
  {
   "cell_type": "markdown",
   "metadata": {
    "id": "_ySpfyk-LSUS"
   },
   "source": [
    "## 6. Voting Across the Aisle\n",
    "\n",
    "We are interested in learning more about respondents who's political views differ strongly from the candidate they expect to vote for. Using `selfLR`, `vote`, `ClinLR`, and `DoleLR`, work through the following questions. Your interpretation may differ from the answer key.\n",
    "\n",
    "*   What is the largest recorded difference between a respondent's political leaning and their impression of their intended candidate's political leaning?\n",
    "*   How many respondents exhibit a difference of that magnitude?\n",
    "*   Make a separate DataFrame called `sway` that only includes voters who exhibit a difference greater than |3|.\n",
    "*   Among those in `sway`, are respondents more likely to be voting for a candidate more conservative or more liberal than their own political leaning?\n",
    "*   In `sway`, which candidate is the more popular choice?\n",
    "\n"
   ]
  },
  {
   "cell_type": "code",
   "execution_count": 48,
   "metadata": {
    "id": "pIFQCKBcLX9z"
   },
   "outputs": [
    {
     "name": "stdout",
     "output_type": "stream",
     "text": [
      "Largest difference: 6.0\n",
      "Number of respondents with the max difference: 1\n",
      "      popul  TVnews  selfLR  ClinLR  DoleLR  PID   age  education  income  \\\n",
      "77     32.0     5.0     3.0     7.0     4.0  1.0  65.0        1.0     5.0   \n",
      "147   720.0     5.0     1.0     5.0     6.0  1.0  64.0        6.0    10.0   \n",
      "166     2.0     7.0     7.0     1.0     2.0  0.0  62.0        2.0    11.0   \n",
      "468     1.0     0.0     6.0     2.0     5.0  2.0  33.0        6.0    17.0   \n",
      "638     9.0     3.0     7.0     2.0     5.0  4.0  46.0        3.0    20.0   \n",
      "702   180.0     7.0     6.0     2.0     4.0  6.0  56.0        3.0    21.0   \n",
      "920  3500.0     7.0     7.0     3.0     5.0  4.0  34.0        7.0    24.0   \n",
      "\n",
      "     vote  logpopul        party    age_group income_percentile  diff    sway  \n",
      "77    0.0  3.468856     Democrat  65 and over         $0-$9,999   4.0  D to D  \n",
      "147   0.0  6.579390     Democrat        55-64   $10,000-$14,999   4.0  D to D  \n",
      "166   0.0  0.741937  Independent        55-64   $15,000-$29,999   6.0  R to D  \n",
      "468   0.0  0.095310     Democrat        25-34   $30,000-$59,999   4.0  R to D  \n",
      "638   0.0  2.208274  Independent        45-54   $30,000-$59,999   5.0  R to D  \n",
      "702   0.0  5.193512   Republican        55-64  $60,000 and over   4.0  R to D  \n",
      "920   0.0  8.160547  Independent        25-34  $60,000 and over   4.0  R to D  \n",
      "Number of democrats: 7\n",
      "Number of republicans: 0\n",
      "100.0\n",
      "0.0\n",
      "Respondents are more likely to vote for a candidate more liberal. Therefore, the more popular vote was Clinton.\n"
     ]
    }
   ],
   "source": [
    "#Calculating largest difference between a respondent's political leaning and their impression of their intended candidate's political leaning\n",
    "\n",
    "\n",
    "def calculate_diff(row):\n",
    "    if row['vote'] == 0:\n",
    "        return abs(row['selfLR'] - row['ClinLR'])\n",
    "    elif row['vote'] == 1:\n",
    "        return abs(row['selfLR'] - row['DoleLR'])\n",
    "    else:\n",
    "        return None  # or another appropriate value for cases where 'vote' is neither 0 nor 1\n",
    "\n",
    "df['diff'] = df.apply(calculate_diff, axis=1)\n",
    "\n",
    "max_diff=df['diff'].max()\n",
    "\n",
    "print('Largest difference: '+str(max_diff))\n",
    "\n",
    "\n",
    "#Calculating how many respondents exhibit a difference of that magnitude?\n",
    "\n",
    "count_max_diff=df[df['diff']==max_diff]\n",
    "\n",
    "print('Number of respondents with the max difference: '+ str(len(count_max_diff)))\n",
    "\n",
    "\n",
    "#Creating sway dataframe\n",
    "\n",
    "sway_data=df[df['diff']>3]\n",
    "\n",
    "sway=pd.DataFrame(sway_data)\n",
    "\n",
    "\n",
    "#Calculating sway respondents votes\n",
    "\n",
    "\n",
    "\n",
    "\n",
    "def calculate_sway(row):\n",
    "    if row['selfLR'] > 4 and row['vote'] == 0:\n",
    "        return 'R to D'\n",
    "    elif row['selfLR'] <4 and row['vote'] == 1:\n",
    "        return 'D to R'\n",
    "    elif row['selfLR'] < 4 and row['vote'] == 0:\n",
    "        return 'D to D'\n",
    "    elif row['selfLR'] > 4 and row['vote'] ==1:\n",
    "        return 'R to R'\n",
    "    else:\n",
    "        return None\n",
    "        \n",
    "        \n",
    "\n",
    "# Assuming 'sway' is your DataFrame and 'vote' is a variable or parameter\n",
    "sway['sway'] = sway.apply(calculate_sway, axis=1)\n",
    "\n",
    "\n",
    "\n",
    "\n",
    "swayed_Republicans=sway[(sway['sway'] == 'D to R') | (sway['sway'] == 'R to R')]\n",
    "\n",
    "swayed_Democrats=sway[(sway['sway'] == 'R to D') | (sway['sway'] == 'D to D')]\n",
    "\n",
    "print(sway.head(10))\n",
    "\n",
    "\n",
    "percentage_of_demo=len(swayed_Democrats)/len(sway) * 100\n",
    "\n",
    "print('Number of democrats: ' + str(len(swayed_Democrats)))\n",
    "\n",
    "percentage_of_repub=len(swayed_Republicans)/len(sway)*100\n",
    "\n",
    "print('Number of republicans: ' + str(len(swayed_Republicans)))\n",
    "\n",
    "print(percentage_of_demo)\n",
    "\n",
    "print(percentage_of_repub)\n",
    "\n",
    "\n",
    "#Calculating if respondents vote for more liberal or more conservative than their leaning\n",
    "\n",
    "if percentage_of_demo>percentage_of_repub:\n",
    "    print('Respondents are more likely to vote for a candidate more liberal. Therefore, the more popular vote was Clinton.')\n",
    "else:\n",
    "    print('Respondents are more likely to vote for a candidate more conservative. Therefore, the more popular vote was Dole')\n",
    "    \n",
    "\n",
    "\n",
    "\n",
    "\n",
    "\n",
    "\n",
    "\n",
    "\n",
    "\n",
    "\n",
    "\n",
    "\n",
    "\n",
    "\n"
   ]
  },
  {
   "cell_type": "markdown",
   "metadata": {
    "id": "HRJKA3UDLr-z"
   },
   "source": [
    "# BSD 3-Clause License\n",
    "\n",
    "*Copyright (c) 2022, UC Berkeley School of Information*\n",
    "\n",
    "*All rights reserved.*\n",
    "\n",
    "*Redistribution and use in source and binary forms, with or without modification, are permitted provided that the following conditions are met:*\n",
    "\n",
    "*1. Redistributions of source code must retain the above copyright notice, this list of conditions and the following disclaimer.*\n",
    "\n",
    "*2. Redistributions in binary form must reproduce the above copyright notice, this list of conditions and the following disclaimer in the documentation and/or other materials provided with the distribution.*\n",
    "\n",
    "*3. Neither the name of the copyright holder nor the names of its contributors may be used to endorse or promote products derived from this software without specific prior written permission.*\n",
    "\n",
    "*THIS SOFTWARE IS PROVIDED BY THE COPYRIGHT HOLDERS AND CONTRIBUTORS \"AS IS\" AND ANY EXPRESS OR IMPLIED WARRANTIES, INCLUDING, BUT NOT LIMITED TO, THE IMPLIED WARRANTIES OF MERCHANTABILITY AND FITNESS FOR A PARTICULAR PURPOSE ARE DISCLAIMED. IN NO EVENT SHALL THE COPYRIGHT HOLDER OR CONTRIBUTORS BE LIABLE FOR ANY DIRECT, INDIRECT, INCIDENTAL, SPECIAL, EXEMPLARY, OR CONSEQUENTIAL DAMAGES (INCLUDING, BUT NOT LIMITED TO, PROCUREMENT OF SUBSTITUTE GOODS OR SERVICES; LOSS OF USE, DATA, OR PROFITS; OR BUSINESS INTERRUPTION) HOWEVER CAUSED AND ON ANY THEORY OF LIABILITY, WHETHER IN CONTRACT, STRICT LIABILITY, OR TORT (INCLUDING NEGLIGENCE OR OTHERWISE) ARISING IN ANY WAY OUT OF THE USE OF THIS SOFTWARE, EVEN IF ADVISED OF THE POSSIBILITY OF SUCH DAMAGE.*"
   ]
  },
  {
   "cell_type": "code",
   "execution_count": null,
   "metadata": {},
   "outputs": [],
   "source": []
  }
 ],
 "metadata": {
  "colab": {
   "provenance": []
  },
  "kernelspec": {
   "display_name": "Python 3 (ipykernel)",
   "language": "python",
   "name": "python3"
  },
  "language_info": {
   "codemirror_mode": {
    "name": "ipython",
    "version": 3
   },
   "file_extension": ".py",
   "mimetype": "text/x-python",
   "name": "python",
   "nbconvert_exporter": "python",
   "pygments_lexer": "ipython3",
   "version": "3.11.4"
  }
 },
 "nbformat": 4,
 "nbformat_minor": 4
}
